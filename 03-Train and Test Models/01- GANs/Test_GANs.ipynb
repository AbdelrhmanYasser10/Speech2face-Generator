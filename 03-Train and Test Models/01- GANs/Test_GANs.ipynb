{
 "cells": [
  {
   "cell_type": "code",
   "execution_count": null,
   "metadata": {},
   "outputs": [],
   "source": [
    "import os\n",
    "import glob\n",
    "import torch\n",
    "import torchvision.utils as vutils\n",
    "import webrtcvad\n",
    "\n",
    "from mfcc import MFCC\n",
    "from config import DATASET_PARAMETERS, NETWORKS_PARAMETERS\n",
    "from network import get_network\n",
    "from utils import voice2face"
   ]
  },
  {
   "cell_type": "code",
   "execution_count": null,
   "metadata": {},
   "outputs": [],
   "source": [
    "# initialization\n",
    "vad_obj = webrtcvad.Vad(2)\n",
    "mfc_obj = MFCC(nfilt=64, lowerf=20., upperf=7200., samprate=16000, nfft=1024, wlen=0.025)\n",
    "e_net, _ = get_network('e', NETWORKS_PARAMETERS, train=False)\n",
    "g_net, _ = get_network('g', NETWORKS_PARAMETERS, train=False)"
   ]
  },
  {
   "cell_type": "code",
   "execution_count": null,
   "metadata": {},
   "outputs": [],
   "source": [
    "filename = 'data\\\\example_data\\\\Moon_Bloodgood.wav'\n",
    "face_image = voice2face(e_net, g_net, filename, vad_obj, mfc_obj,NETWORKS_PARAMETERS['GPU'])\n",
    "vutils.save_image(face_image.detach().clamp(-1,1),filename.replace('.wav', '.png'), normalize=True)"
   ]
  }
 ],
 "metadata": {
  "language_info": {
   "name": "python"
  },
  "orig_nbformat": 4
 },
 "nbformat": 4,
 "nbformat_minor": 2
}
