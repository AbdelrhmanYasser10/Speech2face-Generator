{
 "cells": [
  {
   "attachments": {},
   "cell_type": "markdown",
   "metadata": {},
   "source": [
    "# Convert Voices to wav"
   ]
  },
  {
   "cell_type": "code",
   "execution_count": 3,
   "metadata": {},
   "outputs": [
    {
     "data": {
      "text/plain": [
       "<_io.BufferedRandom name='voices-for-preprocessing\\\\output_2.wav'>"
      ]
     },
     "execution_count": 3,
     "metadata": {},
     "output_type": "execute_result"
    }
   ],
   "source": [
    "from pydub import AudioSegment\n",
    "\n",
    "# Load the audio file\n",
    "audio = AudioSegment.from_file(\"voices-for-preprocessing\\\\2.mp3\", format=\"mp3\")\n",
    "\n",
    "# Export the audio file as WAV\n",
    "audio.export(\"voices-for-preprocessing\\\\output_2.wav\", format=\"wav\")"
   ]
  },
  {
   "cell_type": "code",
   "execution_count": 13,
   "metadata": {},
   "outputs": [
    {
     "data": {
      "text/plain": [
       "<_io.BufferedRandom name='voices-for-preprocessing\\\\output_7.wav'>"
      ]
     },
     "execution_count": 13,
     "metadata": {},
     "output_type": "execute_result"
    }
   ],
   "source": [
    "from pydub import AudioSegment\n",
    "import torchaudio\n",
    "\n",
    "# Load the audio file using PyTorch\n",
    "waveform, sample_rate = torchaudio.load(\"voices-for-preprocessing\\\\7.mp3\")\n",
    "\n",
    "# Export the audio file to a byte buffer using PyDub\n",
    "audio = AudioSegment(\n",
    "    waveform.numpy().tobytes(),\n",
    "    frame_rate=16000,\n",
    "    sample_width=2,\n",
    "    channels=1\n",
    ")\n",
    "\n",
    "# Export the audio file as WAV using PyDub\n",
    "audio.export(\"voices-for-preprocessing\\\\output_7.wav\", format=\"wav\")"
   ]
  },
  {
   "cell_type": "code",
   "execution_count": 14,
   "metadata": {},
   "outputs": [],
   "source": [
    "import torch\n",
    "import torchaudio\n",
    "\n",
    "# Load the audio file\n",
    "waveform, sample_rate = torchaudio.load(\"voices-for-preprocessing\\\\7.mp3\")\n",
    "\n",
    "# Check the number of channels in the audio file\n",
    "num_channels = waveform.shape[0]\n",
    "\n",
    "# If the audio has multiple channels, convert it to mono by averaging the samples across all channels\n",
    "if num_channels > 1:\n",
    "    waveform = torch.mean(waveform, dim=0, keepdim=True)\n",
    "\n",
    "# Export the output audio file as a WAV file\n",
    "torchaudio.save(\"voices-for-preprocessing\\\\output_7.wav\", waveform, sample_rate)"
   ]
  },
  {
   "cell_type": "code",
   "execution_count": 22,
   "metadata": {},
   "outputs": [
    {
     "name": "stdout",
     "output_type": "stream",
     "text": [
      "1\n"
     ]
    }
   ],
   "source": [
    "import torch\n",
    "import numpy as np\n",
    "import wave\n",
    "\n",
    "# Load voice signal as a tensor\n",
    "voice, sample_rate = torchaudio.load('voices-for-preprocessing\\\\output_7.wav')\n",
    "\n",
    "# Convert tensor to NumPy array\n",
    "voice = voice.numpy()\n",
    "print(voice.shape[0])\n",
    "# Open output file with 2-byte sample width\n",
    "with wave.open('output.wav', 'wb') as output_file:\n",
    "    output_file.setnchannels(voice.shape[0])\n",
    "    output_file.setsampwidth(2)\n",
    "    output_file.setframerate(sample_rate)\n",
    "\n",
    "    # Write audio data to output file\n",
    "    output_file.writeframes(voice.tobytes())"
   ]
  },
  {
   "attachments": {},
   "cell_type": "markdown",
   "metadata": {},
   "source": [
    "# Remove silence from audio"
   ]
  },
  {
   "cell_type": "code",
   "execution_count": null,
   "metadata": {},
   "outputs": [],
   "source": []
  }
 ],
 "metadata": {
  "kernelspec": {
   "display_name": "tensorflow-gpu",
   "language": "python",
   "name": "python3"
  },
  "language_info": {
   "codemirror_mode": {
    "name": "ipython",
    "version": 3
   },
   "file_extension": ".py",
   "mimetype": "text/x-python",
   "name": "python",
   "nbconvert_exporter": "python",
   "pygments_lexer": "ipython3",
   "version": "3.8.16"
  },
  "orig_nbformat": 4
 },
 "nbformat": 4,
 "nbformat_minor": 2
}
