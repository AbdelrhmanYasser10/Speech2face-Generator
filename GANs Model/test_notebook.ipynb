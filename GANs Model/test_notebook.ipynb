{
 "cells": [
  {
   "cell_type": "code",
   "execution_count": 7,
   "metadata": {},
   "outputs": [
    {
     "ename": "RuntimeError",
     "evalue": "Error(s) in loading state_dict for Generator:\n\tMissing key(s) in state_dict: \"model.1.weight\", \"model.1.bias\", \"model.1.running_mean\", \"model.1.running_var\", \"model.3.weight\", \"model.3.bias\", \"model.4.running_mean\", \"model.4.running_var\", \"model.7.weight\", \"model.7.bias\", \"model.7.running_mean\", \"model.7.running_var\", \"model.9.weight\", \"model.9.bias\", \"model.10.running_mean\", \"model.10.running_var\", \"model.12.weight\", \"model.12.bias\", \"model.13.weight\", \"model.13.bias\", \"model.13.running_mean\", \"model.13.running_var\", \"model.15.weight\", \"model.15.bias\". \n\tUnexpected key(s) in state_dict: \"model.2.weight\", \"model.2.bias\", \"model.8.weight\", \"model.8.bias\". \n\tsize mismatch for model.4.weight: copying a param with shape torch.Size([512, 256, 4, 4]) from checkpoint, the shape in current model is torch.Size([512]).\n\tsize mismatch for model.4.bias: copying a param with shape torch.Size([256]) from checkpoint, the shape in current model is torch.Size([512]).\n\tsize mismatch for model.6.weight: copying a param with shape torch.Size([256, 128, 4, 4]) from checkpoint, the shape in current model is torch.Size([512, 256, 4, 4]).\n\tsize mismatch for model.6.bias: copying a param with shape torch.Size([128]) from checkpoint, the shape in current model is torch.Size([256]).\n\tsize mismatch for model.10.weight: copying a param with shape torch.Size([64, 3, 1, 1]) from checkpoint, the shape in current model is torch.Size([128]).\n\tsize mismatch for model.10.bias: copying a param with shape torch.Size([3]) from checkpoint, the shape in current model is torch.Size([128]).",
     "output_type": "error",
     "traceback": [
      "\u001b[1;31m---------------------------------------------------------------------------\u001b[0m",
      "\u001b[1;31mRuntimeError\u001b[0m                              Traceback (most recent call last)",
      "Cell \u001b[1;32mIn[7], line 16\u001b[0m\n\u001b[0;32m     14\u001b[0m mfc_obj \u001b[39m=\u001b[39m MFCC(nfilt\u001b[39m=\u001b[39m\u001b[39m64\u001b[39m, lowerf\u001b[39m=\u001b[39m\u001b[39m20.\u001b[39m, upperf\u001b[39m=\u001b[39m\u001b[39m7200.\u001b[39m, samprate\u001b[39m=\u001b[39m\u001b[39m16000\u001b[39m, nfft\u001b[39m=\u001b[39m\u001b[39m1024\u001b[39m, wlen\u001b[39m=\u001b[39m\u001b[39m0.025\u001b[39m)\n\u001b[0;32m     15\u001b[0m e_net, _ \u001b[39m=\u001b[39m get_network(\u001b[39m'\u001b[39m\u001b[39me\u001b[39m\u001b[39m'\u001b[39m, NETWORKS_PARAMETERS, train\u001b[39m=\u001b[39m\u001b[39mFalse\u001b[39;00m)\n\u001b[1;32m---> 16\u001b[0m g_net, _ \u001b[39m=\u001b[39m get_network(\u001b[39m'\u001b[39;49m\u001b[39mg\u001b[39;49m\u001b[39m'\u001b[39;49m, NETWORKS_PARAMETERS, train\u001b[39m=\u001b[39;49m\u001b[39mFalse\u001b[39;49;00m)\n",
      "File \u001b[1;32md:\\Nourhan\\GP\\GP_Cloned_repo\\reconstructing_faces_from_voices\\network.py:112\u001b[0m, in \u001b[0;36mget_network\u001b[1;34m(net_type, params, train)\u001b[0m\n\u001b[0;32m    109\u001b[0m     \u001b[39m#optimizer = optim.Adam(net.parameters(), lr=params['lr'], betas=(params['beta1'], params['beta2']))\u001b[39;00m\n\u001b[0;32m    110\u001b[0m \u001b[39melse\u001b[39;00m:\n\u001b[0;32m    111\u001b[0m     net\u001b[39m.\u001b[39meval()\n\u001b[1;32m--> 112\u001b[0m     net\u001b[39m.\u001b[39;49mload_state_dict(torch\u001b[39m.\u001b[39;49mload(net_params[\u001b[39m'\u001b[39;49m\u001b[39mmodel_path\u001b[39;49m\u001b[39m'\u001b[39;49m],map_location\u001b[39m=\u001b[39;49mtorch\u001b[39m.\u001b[39;49mdevice(\u001b[39m'\u001b[39;49m\u001b[39mcpu\u001b[39;49m\u001b[39m'\u001b[39;49m)))\n\u001b[0;32m    113\u001b[0m     optimizer \u001b[39m=\u001b[39m \u001b[39mNone\u001b[39;00m\n\u001b[0;32m    115\u001b[0m \u001b[39mreturn\u001b[39;00m net, optimizer\n",
      "File \u001b[1;32mc:\\Users\\Ahmed\\.conda\\envs\\tensorflow-gpu\\lib\\site-packages\\torch\\nn\\modules\\module.py:1671\u001b[0m, in \u001b[0;36mModule.load_state_dict\u001b[1;34m(self, state_dict, strict)\u001b[0m\n\u001b[0;32m   1666\u001b[0m         error_msgs\u001b[39m.\u001b[39minsert(\n\u001b[0;32m   1667\u001b[0m             \u001b[39m0\u001b[39m, \u001b[39m'\u001b[39m\u001b[39mMissing key(s) in state_dict: \u001b[39m\u001b[39m{}\u001b[39;00m\u001b[39m. \u001b[39m\u001b[39m'\u001b[39m\u001b[39m.\u001b[39mformat(\n\u001b[0;32m   1668\u001b[0m                 \u001b[39m'\u001b[39m\u001b[39m, \u001b[39m\u001b[39m'\u001b[39m\u001b[39m.\u001b[39mjoin(\u001b[39m'\u001b[39m\u001b[39m\"\u001b[39m\u001b[39m{}\u001b[39;00m\u001b[39m\"\u001b[39m\u001b[39m'\u001b[39m\u001b[39m.\u001b[39mformat(k) \u001b[39mfor\u001b[39;00m k \u001b[39min\u001b[39;00m missing_keys)))\n\u001b[0;32m   1670\u001b[0m \u001b[39mif\u001b[39;00m \u001b[39mlen\u001b[39m(error_msgs) \u001b[39m>\u001b[39m \u001b[39m0\u001b[39m:\n\u001b[1;32m-> 1671\u001b[0m     \u001b[39mraise\u001b[39;00m \u001b[39mRuntimeError\u001b[39;00m(\u001b[39m'\u001b[39m\u001b[39mError(s) in loading state_dict for \u001b[39m\u001b[39m{}\u001b[39;00m\u001b[39m:\u001b[39m\u001b[39m\\n\u001b[39;00m\u001b[39m\\t\u001b[39;00m\u001b[39m{}\u001b[39;00m\u001b[39m'\u001b[39m\u001b[39m.\u001b[39mformat(\n\u001b[0;32m   1672\u001b[0m                        \u001b[39mself\u001b[39m\u001b[39m.\u001b[39m\u001b[39m__class__\u001b[39m\u001b[39m.\u001b[39m\u001b[39m__name__\u001b[39m, \u001b[39m\"\u001b[39m\u001b[39m\\n\u001b[39;00m\u001b[39m\\t\u001b[39;00m\u001b[39m\"\u001b[39m\u001b[39m.\u001b[39mjoin(error_msgs)))\n\u001b[0;32m   1673\u001b[0m \u001b[39mreturn\u001b[39;00m _IncompatibleKeys(missing_keys, unexpected_keys)\n",
      "\u001b[1;31mRuntimeError\u001b[0m: Error(s) in loading state_dict for Generator:\n\tMissing key(s) in state_dict: \"model.1.weight\", \"model.1.bias\", \"model.1.running_mean\", \"model.1.running_var\", \"model.3.weight\", \"model.3.bias\", \"model.4.running_mean\", \"model.4.running_var\", \"model.7.weight\", \"model.7.bias\", \"model.7.running_mean\", \"model.7.running_var\", \"model.9.weight\", \"model.9.bias\", \"model.10.running_mean\", \"model.10.running_var\", \"model.12.weight\", \"model.12.bias\", \"model.13.weight\", \"model.13.bias\", \"model.13.running_mean\", \"model.13.running_var\", \"model.15.weight\", \"model.15.bias\". \n\tUnexpected key(s) in state_dict: \"model.2.weight\", \"model.2.bias\", \"model.8.weight\", \"model.8.bias\". \n\tsize mismatch for model.4.weight: copying a param with shape torch.Size([512, 256, 4, 4]) from checkpoint, the shape in current model is torch.Size([512]).\n\tsize mismatch for model.4.bias: copying a param with shape torch.Size([256]) from checkpoint, the shape in current model is torch.Size([512]).\n\tsize mismatch for model.6.weight: copying a param with shape torch.Size([256, 128, 4, 4]) from checkpoint, the shape in current model is torch.Size([512, 256, 4, 4]).\n\tsize mismatch for model.6.bias: copying a param with shape torch.Size([128]) from checkpoint, the shape in current model is torch.Size([256]).\n\tsize mismatch for model.10.weight: copying a param with shape torch.Size([64, 3, 1, 1]) from checkpoint, the shape in current model is torch.Size([128]).\n\tsize mismatch for model.10.bias: copying a param with shape torch.Size([3]) from checkpoint, the shape in current model is torch.Size([128])."
     ]
    }
   ],
   "source": [
    "import os\n",
    "import glob\n",
    "import torch\n",
    "import torchvision.utils as vutils\n",
    "import webrtcvad\n",
    "\n",
    "from mfcc import MFCC\n",
    "from config import DATASET_PARAMETERS, NETWORKS_PARAMETERS\n",
    "from network import get_network\n",
    "from utils import voice2face\n",
    "\n",
    "# initialization\n",
    "vad_obj = webrtcvad.Vad(2)\n",
    "mfc_obj = MFCC(nfilt=64, lowerf=20., upperf=7200., samprate=16000, nfft=1024, wlen=0.025)\n",
    "e_net, _ = get_network('e', NETWORKS_PARAMETERS, train=False)\n",
    "g_net, _ = get_network('g', NETWORKS_PARAMETERS, train=False)"
   ]
  },
  {
   "cell_type": "code",
   "execution_count": 18,
   "metadata": {},
   "outputs": [],
   "source": [
    "filename = 'data\\\\example_data\\\\Moon_Bloodgood.wav'\n",
    "face_image = voice2face(e_net, g_net, filename, vad_obj, mfc_obj,True)\n",
    "vutils.save_image(face_image.detach().clamp(-1,1),filename.replace('.wav', '.png'), normalize=True)"
   ]
  },
  {
   "cell_type": "code",
   "execution_count": 3,
   "metadata": {},
   "outputs": [
    {
     "data": {
      "text/plain": [
       "True"
      ]
     },
     "execution_count": 3,
     "metadata": {},
     "output_type": "execute_result"
    }
   ],
   "source": [
    "torch.cuda.is_available()"
   ]
  },
  {
   "cell_type": "code",
   "execution_count": 5,
   "metadata": {},
   "outputs": [],
   "source": [
    "from pydub import AudioSegment\n",
    "from scipy.io.wavfile import write,read\n",
    "import numpy as np\n",
    "\n",
    "# load the audio file\n",
    "audio = AudioSegment.from_file('voices-for-preprocessing\\\\5054.wav')\n",
    "\n",
    "# set the audio parameters\n",
    "sample_rate = 16000\n",
    "channels = 1\n",
    "dtype = 'int16'\n",
    "\n",
    "# convert the audio to the desired format\n",
    "audio = audio.set_frame_rate(sample_rate).set_channels(channels).set_sample_width(2)\n",
    "\n",
    "# export the audio to a WAV file\n",
    "output_file = 'voices-for-preprocessing\\\\5054_t1.wav'\n",
    "audio.export(output_file, format='wav')\n",
    "# read the WAV file and normalize the audio data\n",
    "_, data = read(output_file)\n",
    "data = data / np.max(np.abs(data))\n",
    "\n",
    "# save the normalized audio data to a new WAV file\n",
    "write(output_file, sample_rate, data.astype(np.int16))"
   ]
  },
  {
   "cell_type": "code",
   "execution_count": 2,
   "metadata": {},
   "outputs": [],
   "source": [
    "from vad import read_wave , write_wave\n",
    "\n",
    "audio, sample_rate = read_wave('voices-for-preprocessing\\\\2_t2.wav')"
   ]
  },
  {
   "cell_type": "code",
   "execution_count": null,
   "metadata": {},
   "outputs": [],
   "source": []
  }
 ],
 "metadata": {
  "kernelspec": {
   "display_name": "tensorflow-gpu",
   "language": "python",
   "name": "python3"
  },
  "language_info": {
   "codemirror_mode": {
    "name": "ipython",
    "version": 3
   },
   "file_extension": ".py",
   "mimetype": "text/x-python",
   "name": "python",
   "nbconvert_exporter": "python",
   "pygments_lexer": "ipython3",
   "version": "3.8.16"
  },
  "orig_nbformat": 4
 },
 "nbformat": 4,
 "nbformat_minor": 2
}
