{
  "nbformat": 4,
  "nbformat_minor": 0,
  "metadata": {
    "colab": {
      "provenance": []
    },
    "kernelspec": {
      "name": "python3",
      "display_name": "Python 3"
    },
    "language_info": {
      "name": "python"
    },
    "gpuClass": "standard"
  },
  "cells": [
    {
      "cell_type": "markdown",
      "source": [
        "# Imports"
      ],
      "metadata": {
        "id": "6aSz67pBhk_a"
      }
    },
    {
      "cell_type": "code",
      "source": [
        "#!pip install malaya_speech\n",
        "#!pip install pydub"
      ],
      "metadata": {
        "id": "ZIVAWtFIhras"
      },
      "execution_count": null,
      "outputs": []
    },
    {
      "cell_type": "code",
      "execution_count": 9,
      "metadata": {
        "id": "BgRiWthBhfHd"
      },
      "outputs": [],
      "source": [
        "import malaya_speech\n",
        "import numpy as np\n",
        "import librosa\n",
        "from malaya_speech import Pipeline\n",
        "import matplotlib.pyplot as plt\n",
        "import IPython.display as ipd\n",
        "from pydub import AudioSegment\n",
        "from pydub.silence import split_on_silence\n",
        "import librosa"
      ]
    },
    {
      "cell_type": "markdown",
      "source": [
        "# Functions"
      ],
      "metadata": {
        "id": "5E0akBw0iB85"
      }
    },
    {
      "cell_type": "markdown",
      "source": [
        "## Load Audio"
      ],
      "metadata": {
        "id": "z41b8RrgiFIx"
      }
    },
    {
      "cell_type": "code",
      "source": [
        "def load_audio(path): # return y (1d array), sr (int)\n",
        "    return malaya_speech.load(path)"
      ],
      "metadata": {
        "id": "GQDNv_Mbh7Vp"
      },
      "execution_count": 2,
      "outputs": []
    },
    {
      "cell_type": "markdown",
      "source": [
        "## Remove Silence Frames"
      ],
      "metadata": {
        "id": "DANl0uuRiND_"
      }
    },
    {
      "cell_type": "code",
      "source": [
        "from scipy.special import ynp_zeros\n",
        "def remove_silence(y, sr, top_db = 30): # return y (1d array)\n",
        "  y_int = malaya_speech.astype.float_to_int(y)\n",
        "  audio = AudioSegment(\n",
        "      y_int.tobytes(),\n",
        "      frame_rate = sr,\n",
        "      sample_width = y_int.dtype.itemsize,\n",
        "      channels = 1\n",
        "  )\n",
        "  audio_chunks = split_on_silence(\n",
        "      audio,\n",
        "      min_silence_len = 200,\n",
        "      silence_thresh = -30,\n",
        "      keep_silence = 100,\n",
        "  )\n",
        "  y_ = sum(audio_chunks)\n",
        "  y_ = np.array(y_.get_array_of_samples())\n",
        "  y_ = malaya_speech.astype.int_to_float(y_)\n",
        "  return y_"
      ],
      "metadata": {
        "id": "Frc-pbJ4iMRR"
      },
      "execution_count": 3,
      "outputs": []
    },
    {
      "cell_type": "markdown",
      "source": [
        "## Extract 64-dimensional Log Mel-Spectogram"
      ],
      "metadata": {
        "id": "fY4c9MiSiZnb"
      }
    },
    {
      "cell_type": "code",
      "source": [
        "def get_log_mel_spectrogram(sig, sampling_rate, window_size, hop_size, epsilon=1e-7):\n",
        "  mel_spectra = librosa.feature.melspectrogram(\n",
        "      sig,\n",
        "      sr=sampling_rate,\n",
        "      n_fft=window_size,\n",
        "      hop_length=hop_size\n",
        "  )\n",
        "  log_mel_spectogram = np.transpose(np.log10(mel_spectra + epsilon))\n",
        "  return log_mel_spectogram "
      ],
      "metadata": {
        "id": "2sGMMwZuiVGr"
      },
      "execution_count": 4,
      "outputs": []
    },
    {
      "cell_type": "markdown",
      "source": [
        "## Mean and Varience Normalization for each mel-frequency bin"
      ],
      "metadata": {
        "id": "S3OsIECDjAiw"
      }
    },
    {
      "cell_type": "code",
      "source": [
        "def mean_and_var_normalization_of_each_frequency_mel_spectrogram(mel_spectrogram, epsilon=1e-7):\n",
        "    mean = np.mean(mel_spectrogram, axis=0)\n",
        "    std = np.std(mel_spectrogram, axis=0)\n",
        "    return (mel_spectrogram - mean) / (std + epsilon)"
      ],
      "metadata": {
        "id": "S30Z_rtkipkz"
      },
      "execution_count": 5,
      "outputs": []
    },
    {
      "cell_type": "markdown",
      "source": [
        "# Integrate All Functions"
      ],
      "metadata": {
        "id": "gC8QPtfJkHx-"
      }
    },
    {
      "cell_type": "code",
      "source": [
        "sig , sample_rate = load_audio(\"/content/test0.wav\")"
      ],
      "metadata": {
        "id": "Hbw9jlAKjV5A"
      },
      "execution_count": 6,
      "outputs": []
    },
    {
      "cell_type": "code",
      "source": [
        "silence_removed_sig = remove_silence(sig,sample_rate)"
      ],
      "metadata": {
        "id": "QykYy5n9nwpC"
      },
      "execution_count": 7,
      "outputs": []
    },
    {
      "cell_type": "markdown",
      "source": [
        "## Spectogram - 1"
      ],
      "metadata": {
        "id": "ByC8LkGtCf7e"
      }
    },
    {
      "cell_type": "code",
      "source": [
        "mel_spectogram = get_log_mel_spectrogram(silence_removed_sig , sample_rate,25,10) "
      ],
      "metadata": {
        "colab": {
          "base_uri": "https://localhost:8080/"
        },
        "id": "eSpYJZeYkfNJ",
        "outputId": "c7ff5ce7-9738-4554-b188-eb7b705d2f6a"
      },
      "execution_count": 15,
      "outputs": [
        {
          "output_type": "stream",
          "name": "stderr",
          "text": [
            "/usr/local/lib/python3.8/dist-packages/librosa/filters.py:238: UserWarning: Empty filters detected in mel frequency basis. Some channels will produce empty responses. Try increasing your sampling rate (and fmax) or reducing n_mels.\n",
            "  warnings.warn(\n"
          ]
        }
      ]
    },
    {
      "cell_type": "code",
      "source": [
        "plt.imshow(mel_spectogram)"
      ],
      "metadata": {
        "colab": {
          "base_uri": "https://localhost:8080/",
          "height": 286
        },
        "id": "adHsqQrVk3AV",
        "outputId": "1e448694-c163-4b57-c4af-6e25224ebbba"
      },
      "execution_count": 16,
      "outputs": [
        {
          "output_type": "execute_result",
          "data": {
            "text/plain": [
              "<matplotlib.image.AxesImage at 0x7fcdd079e910>"
            ]
          },
          "metadata": {},
          "execution_count": 16
        },
        {
          "output_type": "display_data",
          "data": {
            "text/plain": [
              "<Figure size 432x288 with 1 Axes>"
            ],
            "image/png": "[encoded data removed]"
          },
          "metadata": {
            "needs_background": "light"
          }
        }
      ]
    },
    {
      "cell_type": "code",
      "source": [
        "norm_spectogram = mean_and_var_normalization_of_each_frequency_mel_spectrogram(mel_spectogram)"
      ],
      "metadata": {
        "id": "dy2qkviCk8Ri"
      },
      "execution_count": 17,
      "outputs": []
    },
    {
      "cell_type": "code",
      "source": [
        "plt.imshow(norm_spectogram)"
      ],
      "metadata": {
        "id": "edL3c7GwuGOH",
        "outputId": "1b39d39b-434c-46c3-803f-8dc0da79afdd",
        "colab": {
          "base_uri": "https://localhost:8080/",
          "height": 286
        }
      },
      "execution_count": 18,
      "outputs": [
        {
          "output_type": "execute_result",
          "data": {
            "text/plain": [
              "<matplotlib.image.AxesImage at 0x7fcdd06fc190>"
            ]
          },
          "metadata": {},
          "execution_count": 18
        },
        {
          "output_type": "display_data",
          "data": {
            "text/plain": [
              "<Figure size 432x288 with 1 Axes>"
            ],
            "image/png": "[encoded data removed]"
          },
          "metadata": {
            "needs_background": "light"
          }
        }
      ]
    },
    {
      "cell_type": "markdown",
      "source": [
        "## Spectogram - 2"
      ],
      "metadata": {
        "id": "mig_opKfCmGt"
      }
    },
    {
      "cell_type": "code",
      "source": [
        "ps = librosa.feature.melspectrogram(y=sig, sr=sample_rate, win_length=25,hop_length=10)\n",
        "ps_db= librosa.power_to_db(ps, ref=np.max)\n",
        "#plt.figure(figsize=(5,5))\n",
        "plt.imshow(ps_db)"
      ],
      "metadata": {
        "colab": {
          "base_uri": "https://localhost:8080/",
          "height": 76
        },
        "id": "dTd8rtzD4Mvu",
        "outputId": "a650005e-ed9f-4286-c433-19b8594f27c5"
      },
      "execution_count": 14,
      "outputs": [
        {
          "output_type": "execute_result",
          "data": {
            "text/plain": [
              "<matplotlib.image.AxesImage at 0x7fcdd07d9790>"
            ]
          },
          "metadata": {},
          "execution_count": 14
        },
        {
          "output_type": "display_data",
          "data": {
            "text/plain": [
              "<Figure size 360x360 with 1 Axes>"
            ],
            "image/png": "[encoded data removed]"
          },
          "metadata": {
            "needs_background": "light"
          }
        }
      ]
    },
    {
      "cell_type": "code",
      "source": [
        "norm_ps = mean_and_var_normalization_of_each_frequency_mel_spectrogram(ps_db)"
      ],
      "metadata": {
        "id": "X2h29Wp1CDHp"
      },
      "execution_count": 19,
      "outputs": []
    },
    {
      "cell_type": "code",
      "source": [
        "plt.imshow(norm_ps)"
      ],
      "metadata": {
        "colab": {
          "base_uri": "https://localhost:8080/",
          "height": 78
        },
        "id": "8rBozfe_COvB",
        "outputId": "e5b80c6b-69ab-46c0-e26b-a5e17450f799"
      },
      "execution_count": 20,
      "outputs": [
        {
          "output_type": "execute_result",
          "data": {
            "text/plain": [
              "<matplotlib.image.AxesImage at 0x7fcdd06cc8e0>"
            ]
          },
          "metadata": {},
          "execution_count": 20
        },
        {
          "output_type": "display_data",
          "data": {
            "text/plain": [
              "<Figure size 432x288 with 1 Axes>"
            ],
            "image/png": "[encoded data removed]"
          },
          "metadata": {
            "needs_background": "light"
          }
        }
      ]
    },
    {
      "cell_type": "code",
      "source": [],
      "metadata": {
        "id": "qxmRAdH0uJG2"
      },
      "execution_count": null,
      "outputs": []
    }
  ]
}